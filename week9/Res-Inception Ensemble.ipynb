{
 "cells": [
  {
   "cell_type": "code",
   "execution_count": 1,
   "metadata": {
    "ExecuteTime": {
     "end_time": "2023-11-30T01:10:38.635443900Z",
     "start_time": "2023-11-30T01:09:15.274450400Z"
    }
   },
   "outputs": [],
   "source": [
    "from keras.preprocessing.image import ImageDataGenerator\n",
    "import matplotlib.pyplot as plt\n",
    "from keras.models import Model\n",
    "from keras.layers import Input, Conv2D, concatenate, GlobalAveragePooling2D, Dense, MaxPooling2D\n",
    "from tensorflow.keras.optimizers import Adam\n",
    "import keras.backend as K"
   ]
  },
  {
   "cell_type": "code",
   "execution_count": 2,
   "metadata": {
    "ExecuteTime": {
     "end_time": "2023-11-30T01:10:38.650248Z",
     "start_time": "2023-11-30T01:10:38.635443900Z"
    }
   },
   "outputs": [],
   "source": [
    "train_dir = r'D:\\Download\\zyFile\\Machine_Vision\\MV_Seminar_Week 2\\Machine_Vision_homework\\MV_Seminar Week 5\\data_mv\\train'\n",
    "test_dir = r'D:\\Download\\zyFile\\Machine_Vision\\MV_Seminar_Week 2\\Machine_Vision_homework\\MV_Seminar Week 5\\data_mv\\test'"
   ]
  },
  {
   "cell_type": "code",
   "execution_count": 3,
   "metadata": {
    "ExecuteTime": {
     "end_time": "2023-11-30T01:10:38.729976200Z",
     "start_time": "2023-11-30T01:10:38.650248Z"
    }
   },
   "outputs": [
    {
     "name": "stdout",
     "output_type": "stream",
     "text": [
      "Found 48 images belonging to 3 classes.\n"
     ]
    }
   ],
   "source": [
    "# Load and preprocess the training data\n",
    "train_datagen = ImageDataGenerator(rescale=1.0/255)\n",
    "train_generator = train_datagen.flow_from_directory(\n",
    "    train_dir,\n",
    "    target_size=(128, 128),\n",
    "    batch_size=16,\n",
    "    class_mode='categorical',  # Assuming labels are provided as integers\n",
    "    color_mode='rgb'  # Assuming images are grayscale\n",
    ")"
   ]
  },
  {
   "cell_type": "code",
   "execution_count": 4,
   "metadata": {
    "ExecuteTime": {
     "end_time": "2023-11-30T01:10:38.878172700Z",
     "start_time": "2023-11-30T01:10:38.722193900Z"
    }
   },
   "outputs": [
    {
     "name": "stdout",
     "output_type": "stream",
     "text": [
      "Found 24 images belonging to 3 classes.\n"
     ]
    }
   ],
   "source": [
    "# Load and preprocess the test data\n",
    "test_datagen = ImageDataGenerator(rescale=1.0/255)\n",
    "test_generator = test_datagen.flow_from_directory(\n",
    "    test_dir,\n",
    "    target_size=(128, 128),\n",
    "    batch_size=16,\n",
    "    class_mode='categorical',\n",
    "    color_mode='rgb'\n",
    ")"
   ]
  },
  {
   "cell_type": "code",
   "execution_count": 5,
   "metadata": {
    "ExecuteTime": {
     "end_time": "2023-11-30T01:10:39.029896Z",
     "start_time": "2023-11-30T01:10:38.779449100Z"
    }
   },
   "outputs": [],
   "source": [
    "x_train, y_train = train_generator.next()\n",
    "x_test, y_test = test_generator.next()"
   ]
  },
  {
   "cell_type": "markdown",
   "metadata": {},
   "source": [
    "# Building Inception Module from Sratch"
   ]
  },
  {
   "cell_type": "code",
   "execution_count": 6,
   "metadata": {
    "ExecuteTime": {
     "end_time": "2023-11-30T01:10:39.046698Z",
     "start_time": "2023-11-30T01:10:38.876870900Z"
    }
   },
   "outputs": [],
   "source": [
    "# Defind the inception module (Module A)\n",
    "\n",
    "def inception_block(input_shape, filter_1x1):\n",
    "    \n",
    "    # First branch\n",
    "    branch_1_conv_1x1 = Conv2D(128, (1,1), padding='same', activation='relu')(input_shape)\n",
    "\n",
    "    # Second branch\n",
    "    branch_2_conv_1x1 = Conv2D(64, (1,1), padding='same', activation='relu')(input_shape)\n",
    "    branch_2_conv_3x3 = Conv2D(192, (3,3), padding='same', activation='relu')(branch_2_conv_1x1)\n",
    "    branch_2_conv_1x1 = Conv2D(filter_1x1, (1,1), padding='same', activation='relu')(branch_2_conv_3x3)\n",
    "\n",
    "    # Third branch\n",
    "    branch_3_conv_1x1 = Conv2D(64, (1,1), padding='same', activation='relu')(input_shape)\n",
    "    branch_3_conv_5x5 = Conv2D(96, (5,5), padding='same', activation='relu')(branch_3_conv_1x1 )\n",
    "    branch_3_conv_1x1 = Conv2D(64, (1,1), padding='same', activation='relu')(branch_3_conv_5x5)\n",
    "\n",
    "    branch_output = concatenate([branch_1_conv_1x1, branch_2_conv_1x1, branch_3_conv_1x1], axis=-1)\n",
    "    \n",
    "    return branch_output\n",
    "\n"
   ]
  },
  {
   "cell_type": "markdown",
   "metadata": {},
   "source": [
    "Let's break down the lines of code for the Inception module (Module A):\n",
    "\n",
    "```python\n",
    "# Defind the inception module (Module A)\n",
    "def inception_block(input_shape, filter_1x1):\n",
    "    \n",
    "    # First branch\n",
    "    branch_1_conv_1x1 = Conv2D(128, (1,1), padding='same', activation='relu')(input_shape)\n",
    "\n",
    "    # Second branch\n",
    "    branch_2_conv_1x1 = Conv2D(64, (1,1), padding='same', activation='relu')(input_shape)\n",
    "    branch_2_conv_3x3 = Conv2D(192, (3,3), padding='same', activation='relu')(branch_2_conv_1x1)\n",
    "    branch_2_conv_1x1 = Conv2D(filter_1x1, (1,1), padding='same', activation='relu')(branch_2_conv_3x3)\n",
    "\n",
    "    # Third branch\n",
    "    branch_3_conv_1x1 = Conv2D(64, (1,1), padding='same', activation='relu')(input_shape)\n",
    "    branch_3_conv_5x5 = Conv2D(96, (5,5), padding='same', activation='relu')(branch_3_conv_1x1 )\n",
    "    branch_3_conv_1x1 = Conv2D(64, (1,1), padding='same', activation='relu')(branch_3_conv_5x5)\n",
    "\n",
    "    branch_output = concatenate([branch_1_conv_1x1, branch_2_conv_1x1, branch_3_conv_1x1], axis=-1)\n",
    "    \n",
    "    return branch_output\n",
    "```\n",
    "\n",
    "### Explanation:\n",
    "\n",
    "1. **First Branch (`branch_1_conv_1x1`):**\n",
    "   - `branch_1_conv_1x1` is a 1x1 convolution with 128 filters applied to the input shape.\n",
    "   - The convolution is followed by batch normalization and a ReLU activation function.\n",
    "\n",
    "2. **Second Branch (`branch_2_conv_1x1`, `branch_2_conv_3x3`, `branch_2_conv_1x1`):**\n",
    "   - `branch_2_conv_1x1` is a 1x1 convolution with 64 filters applied to the input shape.\n",
    "   - `branch_2_conv_3x3` is a 3x3 convolution with 192 filters applied to the output of the previous 1x1 convolution.\n",
    "   - `branch_2_conv_1x1` is another 1x1 convolution with `filter_1x1` filters applied to the output of the 3x3 convolution.\n",
    "   - Each convolution is followed by batch normalization and a ReLU activation function.\n",
    "\n",
    "3. **Third Branch (`branch_3_conv_1x1`, `branch_3_conv_5x5`, `branch_3_conv_1x1`):**\n",
    "   - `branch_3_conv_1x1` is a 1x1 convolution with 64 filters applied to the input shape.\n",
    "   - `branch_3_conv_5x5` is a 5x5 convolution with 96 filters applied to the output of the previous 1x1 convolution.\n",
    "   - `branch_3_conv_1x1` is another 1x1 convolution with 64 filters applied to the output of the 5x5 convolution.\n",
    "   - Each convolution is followed by batch normalization and a ReLU activation function.\n",
    "\n",
    "4. **Concatenate Branch Outputs (`branch_output`):**\n",
    "   - The outputs of the three branches (`branch_1_conv_1x1`, `branch_2_conv_1x1`, `branch_3_conv_1x1`) are concatenated along the last axis (axis=-1).\n",
    "   - The concatenation creates the final output of the Inception module, combining features extracted by different convolutional filters.\n",
    "\n",
    "5. **Return (`return branch_output`):**\n",
    "   - The concatenated output is returned from the function.\n",
    "\n",
    "In summary, this Inception module creates a complex set of features by applying different convolutional filters with varying kernel sizes (1x1, 3x3, 5x5) to the input shape. The concatenated output captures diverse information, enhancing the representational power of the model."
   ]
  },
  {
   "cell_type": "code",
   "execution_count": 7,
   "metadata": {
    "ExecuteTime": {
     "end_time": "2023-11-30T01:10:39.046698Z",
     "start_time": "2023-11-30T01:10:38.887070600Z"
    }
   },
   "outputs": [],
   "source": [
    "input_shape = Input(shape=(128,128,3))"
   ]
  },
  {
   "cell_type": "code",
   "execution_count": 8,
   "metadata": {
    "ExecuteTime": {
     "end_time": "2023-11-30T01:10:43.071187700Z",
     "start_time": "2023-11-30T01:10:38.914983400Z"
    }
   },
   "outputs": [],
   "source": [
    "x = Conv2D(64, (7,7), activation='relu')(input_shape)\n",
    "x = MaxPooling2D(2,2)(x)\n",
    "x = Conv2D(64, (3,3), activation='relu')(x)\n",
    "x = Conv2D(32, (1,1), activation='relu')(x)\n",
    "x = inception_block(x, 64)\n",
    "x = MaxPooling2D(2,2)(x)\n",
    "x = inception_block(x, 64)\n",
    "x = MaxPooling2D(2,2)(x)\n",
    "x = inception_block(x, 64)\n",
    "x = MaxPooling2D(2,2)(x)\n",
    "x = GlobalAveragePooling2D()(x)\n",
    "output = Dense(3, activation='softmax')(x)\n"
   ]
  },
  {
   "cell_type": "code",
   "execution_count": 9,
   "metadata": {
    "ExecuteTime": {
     "end_time": "2023-11-30T01:10:43.090470500Z",
     "start_time": "2023-11-30T01:10:43.071187700Z"
    }
   },
   "outputs": [],
   "source": [
    "model_1 = Model(inputs=input_shape, outputs=output)"
   ]
  },
  {
   "cell_type": "code",
   "execution_count": 10,
   "metadata": {
    "ExecuteTime": {
     "end_time": "2023-11-30T01:10:43.121117Z",
     "start_time": "2023-11-30T01:10:43.090470500Z"
    }
   },
   "outputs": [
    {
     "name": "stdout",
     "output_type": "stream",
     "text": [
      "Model: \"model\"\n",
      "__________________________________________________________________________________________________\n",
      " Layer (type)                   Output Shape         Param #     Connected to                     \n",
      "==================================================================================================\n",
      " input_1 (InputLayer)           [(None, 128, 128, 3  0           []                               \n",
      "                                )]                                                                \n",
      "                                                                                                  \n",
      " conv2d (Conv2D)                (None, 122, 122, 64  9472        ['input_1[0][0]']                \n",
      "                                )                                                                 \n",
      "                                                                                                  \n",
      " max_pooling2d (MaxPooling2D)   (None, 61, 61, 64)   0           ['conv2d[0][0]']                 \n",
      "                                                                                                  \n",
      " conv2d_1 (Conv2D)              (None, 59, 59, 64)   36928       ['max_pooling2d[0][0]']          \n",
      "                                                                                                  \n",
      " conv2d_2 (Conv2D)              (None, 59, 59, 32)   2080        ['conv2d_1[0][0]']               \n",
      "                                                                                                  \n",
      " conv2d_4 (Conv2D)              (None, 59, 59, 64)   2112        ['conv2d_2[0][0]']               \n",
      "                                                                                                  \n",
      " conv2d_7 (Conv2D)              (None, 59, 59, 64)   2112        ['conv2d_2[0][0]']               \n",
      "                                                                                                  \n",
      " conv2d_5 (Conv2D)              (None, 59, 59, 192)  110784      ['conv2d_4[0][0]']               \n",
      "                                                                                                  \n",
      " conv2d_8 (Conv2D)              (None, 59, 59, 96)   153696      ['conv2d_7[0][0]']               \n",
      "                                                                                                  \n",
      " conv2d_3 (Conv2D)              (None, 59, 59, 128)  4224        ['conv2d_2[0][0]']               \n",
      "                                                                                                  \n",
      " conv2d_6 (Conv2D)              (None, 59, 59, 64)   12352       ['conv2d_5[0][0]']               \n",
      "                                                                                                  \n",
      " conv2d_9 (Conv2D)              (None, 59, 59, 64)   6208        ['conv2d_8[0][0]']               \n",
      "                                                                                                  \n",
      " concatenate (Concatenate)      (None, 59, 59, 256)  0           ['conv2d_3[0][0]',               \n",
      "                                                                  'conv2d_6[0][0]',               \n",
      "                                                                  'conv2d_9[0][0]']               \n",
      "                                                                                                  \n",
      " max_pooling2d_1 (MaxPooling2D)  (None, 29, 29, 256)  0          ['concatenate[0][0]']            \n",
      "                                                                                                  \n",
      " conv2d_11 (Conv2D)             (None, 29, 29, 64)   16448       ['max_pooling2d_1[0][0]']        \n",
      "                                                                                                  \n",
      " conv2d_14 (Conv2D)             (None, 29, 29, 64)   16448       ['max_pooling2d_1[0][0]']        \n",
      "                                                                                                  \n",
      " conv2d_12 (Conv2D)             (None, 29, 29, 192)  110784      ['conv2d_11[0][0]']              \n",
      "                                                                                                  \n",
      " conv2d_15 (Conv2D)             (None, 29, 29, 96)   153696      ['conv2d_14[0][0]']              \n",
      "                                                                                                  \n",
      " conv2d_10 (Conv2D)             (None, 29, 29, 128)  32896       ['max_pooling2d_1[0][0]']        \n",
      "                                                                                                  \n",
      " conv2d_13 (Conv2D)             (None, 29, 29, 64)   12352       ['conv2d_12[0][0]']              \n",
      "                                                                                                  \n",
      " conv2d_16 (Conv2D)             (None, 29, 29, 64)   6208        ['conv2d_15[0][0]']              \n",
      "                                                                                                  \n",
      " concatenate_1 (Concatenate)    (None, 29, 29, 256)  0           ['conv2d_10[0][0]',              \n",
      "                                                                  'conv2d_13[0][0]',              \n",
      "                                                                  'conv2d_16[0][0]']              \n",
      "                                                                                                  \n",
      " max_pooling2d_2 (MaxPooling2D)  (None, 14, 14, 256)  0          ['concatenate_1[0][0]']          \n",
      "                                                                                                  \n",
      " conv2d_18 (Conv2D)             (None, 14, 14, 64)   16448       ['max_pooling2d_2[0][0]']        \n",
      "                                                                                                  \n",
      " conv2d_21 (Conv2D)             (None, 14, 14, 64)   16448       ['max_pooling2d_2[0][0]']        \n",
      "                                                                                                  \n",
      " conv2d_19 (Conv2D)             (None, 14, 14, 192)  110784      ['conv2d_18[0][0]']              \n",
      "                                                                                                  \n",
      " conv2d_22 (Conv2D)             (None, 14, 14, 96)   153696      ['conv2d_21[0][0]']              \n",
      "                                                                                                  \n",
      " conv2d_17 (Conv2D)             (None, 14, 14, 128)  32896       ['max_pooling2d_2[0][0]']        \n",
      "                                                                                                  \n",
      " conv2d_20 (Conv2D)             (None, 14, 14, 64)   12352       ['conv2d_19[0][0]']              \n",
      "                                                                                                  \n",
      " conv2d_23 (Conv2D)             (None, 14, 14, 64)   6208        ['conv2d_22[0][0]']              \n",
      "                                                                                                  \n",
      " concatenate_2 (Concatenate)    (None, 14, 14, 256)  0           ['conv2d_17[0][0]',              \n",
      "                                                                  'conv2d_20[0][0]',              \n",
      "                                                                  'conv2d_23[0][0]']              \n",
      "                                                                                                  \n",
      " max_pooling2d_3 (MaxPooling2D)  (None, 7, 7, 256)   0           ['concatenate_2[0][0]']          \n",
      "                                                                                                  \n",
      " global_average_pooling2d (Glob  (None, 256)         0           ['max_pooling2d_3[0][0]']        \n",
      " alAveragePooling2D)                                                                              \n",
      "                                                                                                  \n",
      " dense (Dense)                  (None, 3)            771         ['global_average_pooling2d[0][0]'\n",
      "                                                                 ]                                \n",
      "                                                                                                  \n",
      "==================================================================================================\n",
      "Total params: 1,038,403\n",
      "Trainable params: 1,038,403\n",
      "Non-trainable params: 0\n",
      "__________________________________________________________________________________________________\n"
     ]
    }
   ],
   "source": [
    "model_1.summary()"
   ]
  },
  {
   "cell_type": "code",
   "execution_count": 11,
   "metadata": {
    "ExecuteTime": {
     "end_time": "2023-11-30T01:10:43.161237900Z",
     "start_time": "2023-11-30T01:10:43.110486800Z"
    }
   },
   "outputs": [],
   "source": [
    "# Compile the model\n",
    "model_1.compile(optimizer='adam', loss='categorical_crossentropy', metrics=['accuracy'])"
   ]
  },
  {
   "cell_type": "code",
   "execution_count": 12,
   "metadata": {
    "ExecuteTime": {
     "end_time": "2023-11-30T01:11:10.197312200Z",
     "start_time": "2023-11-30T01:10:43.131576Z"
    }
   },
   "outputs": [
    {
     "name": "stdout",
     "output_type": "stream",
     "text": [
      "Epoch 1/10\n",
      "1/1 [==============================] - 26s 26s/step - loss: 1.0938 - accuracy: 0.4167 - val_loss: 1.1817 - val_accuracy: 0.0000e+00\n",
      "Epoch 2/10\n",
      "1/1 [==============================] - 0s 90ms/step - loss: 1.0664 - accuracy: 0.4167 - val_loss: 1.6152 - val_accuracy: 0.0000e+00\n",
      "Epoch 3/10\n",
      "1/1 [==============================] - 0s 93ms/step - loss: 1.1406 - accuracy: 0.4167 - val_loss: 1.1709 - val_accuracy: 0.0000e+00\n",
      "Epoch 4/10\n",
      "1/1 [==============================] - 0s 89ms/step - loss: 1.0618 - accuracy: 0.4167 - val_loss: 1.0923 - val_accuracy: 0.0000e+00\n",
      "Epoch 5/10\n",
      "1/1 [==============================] - 0s 91ms/step - loss: 1.0740 - accuracy: 0.5000 - val_loss: 1.0974 - val_accuracy: 0.0000e+00\n",
      "Epoch 6/10\n",
      "1/1 [==============================] - 0s 90ms/step - loss: 1.0763 - accuracy: 0.5000 - val_loss: 1.1190 - val_accuracy: 0.0000e+00\n",
      "Epoch 7/10\n",
      "1/1 [==============================] - 0s 90ms/step - loss: 1.0752 - accuracy: 0.4167 - val_loss: 1.1217 - val_accuracy: 0.0000e+00\n",
      "Epoch 8/10\n",
      "1/1 [==============================] - 0s 91ms/step - loss: 1.0697 - accuracy: 0.4167 - val_loss: 1.0981 - val_accuracy: 0.0000e+00\n",
      "Epoch 9/10\n",
      "1/1 [==============================] - 0s 90ms/step - loss: 1.0599 - accuracy: 0.5833 - val_loss: 1.1078 - val_accuracy: 0.0000e+00\n",
      "Epoch 10/10\n",
      "1/1 [==============================] - 0s 93ms/step - loss: 1.0422 - accuracy: 0.5833 - val_loss: 1.1723 - val_accuracy: 0.0000e+00\n"
     ]
    }
   ],
   "source": [
    "history = model_1.fit(x_train, y_train, epochs=10, validation_split=0.2)"
   ]
  },
  {
   "cell_type": "code",
   "execution_count": 13,
   "metadata": {
    "ExecuteTime": {
     "end_time": "2023-11-30T01:11:10.829048100Z",
     "start_time": "2023-11-30T01:11:10.197312200Z"
    }
   },
   "outputs": [
    {
     "name": "stdout",
     "output_type": "stream",
     "text": [
      "1/1 [==============================] - 1s 570ms/step - loss: 1.0785 - accuracy: 0.5625\n",
      "Test accuracy: 0.5625\n",
      "Test loss: 1.0785197019577026\n"
     ]
    }
   ],
   "source": [
    "# Evaluate the model on the test set\n",
    "test_loss, test_acc = model_1.evaluate(x_test, y_test)\n",
    "print(\"Test accuracy:\", test_acc)\n",
    "print(\"Test loss:\", test_loss)"
   ]
  },
  {
   "cell_type": "code",
   "execution_count": 14,
   "metadata": {
    "ExecuteTime": {
     "end_time": "2023-11-30T01:11:14.556432600Z",
     "start_time": "2023-11-30T01:11:10.819157600Z"
    }
   },
   "outputs": [
    {
     "data": {
      "text/plain": "<Figure size 640x480 with 1 Axes>",
      "image/png": "[encoded data removed]"
     },
     "metadata": {},
     "output_type": "display_data"
    }
   ],
   "source": [
    "plt.plot(history.history['accuracy'], label='accuracy')\n",
    "plt.plot(history.history['val_accuracy'], label='val_accuracy')\n",
    "plt.legend()\n",
    "plt.show()"
   ]
  },
  {
   "cell_type": "code",
   "execution_count": 15,
   "metadata": {
    "ExecuteTime": {
     "end_time": "2023-11-30T01:11:15.178715Z",
     "start_time": "2023-11-30T01:11:14.536386900Z"
    }
   },
   "outputs": [
    {
     "data": {
      "text/plain": "<Figure size 640x480 with 1 Axes>",
      "image/png": "[encoded data removed]"
     },
     "metadata": {},
     "output_type": "display_data"
    }
   ],
   "source": [
    "plt.plot(history.history['loss'], label='loss')\n",
    "plt.plot(history.history['val_loss'], label='val_loss')\n",
    "plt.legend()\n",
    "plt.show()"
   ]
  },
  {
   "cell_type": "markdown",
   "metadata": {},
   "source": [
    "# Building Residual Network of ResNet"
   ]
  },
  {
   "cell_type": "code",
   "execution_count": 16,
   "metadata": {
    "ExecuteTime": {
     "end_time": "2023-11-30T01:11:15.178715Z",
     "start_time": "2023-11-30T01:11:15.068716500Z"
    }
   },
   "outputs": [],
   "source": [
    "from keras.models import Model\n",
    "from keras.layers import Input, Conv2D, BatchNormalization\n",
    "from keras.layers import ReLU, Add, GlobalAveragePooling2D, Dense,MaxPooling2D\n"
   ]
  },
  {
   "cell_type": "code",
   "execution_count": 17,
   "metadata": {
    "ExecuteTime": {
     "end_time": "2023-11-30T01:11:15.178715Z",
     "start_time": "2023-11-30T01:11:15.068716500Z"
    }
   },
   "outputs": [],
   "source": [
    "def res_block(input_shape, filters, strides=1):\n",
    "    #\n",
    "    shortcut = input_shape\n",
    "\n",
    "    x = Conv2D(filters, (1,1), strides=1, padding='same')(input_shape)\n",
    "    x = BatchNormalization()(x)\n",
    "    x = ReLU()(x)\n",
    "\n",
    "    x = Conv2D(filters, (3,3), padding='same')(x)\n",
    "    x = BatchNormalization()(x)\n",
    "    x = ReLU()(x)\n",
    "\n",
    "    x = Conv2D(filters*4, (1,1), padding='same')(x)\n",
    "    x = BatchNormalization()(x)\n",
    "    # Skip connection\n",
    "    if strides !=1 or shortcut.shape[-1]!= filters*4:\n",
    "        shortcut = Conv2D(filters*4, (1,1), strides=strides, padding='same')(shortcut)\n",
    "        shortcut = BatchNormalization()(shortcut)\n",
    "    # Add the shortcut to the main path\n",
    "    x = Add()([x, shortcut])\n",
    "    x = ReLU()(x)\n",
    "    \n",
    "    return x"
   ]
  },
  {
   "cell_type": "markdown",
   "metadata": {},
   "source": [
    "Let's break down the lines of code for the residual block without the skip connection:\n",
    "\n",
    "```python\n",
    "def res_block(input_shape, filters, strides=1):\n",
    "    # Save the input shape as the shortcut (identity) connection\n",
    "    shortcut = input_shape\n",
    "\n",
    "    # First convolution block\n",
    "    x = Conv2D(filters, (1,1), strides=1, padding='same')(input_shape)\n",
    "    x = BatchNormalization()(x)\n",
    "    x = ReLU()(x)\n",
    "\n",
    "    # Second convolution block\n",
    "    x = Conv2D(filters, (3,3), padding='same')(x)\n",
    "    x = BatchNormalization()(x)\n",
    "    x = ReLU()(x)\n",
    "\n",
    "    # Third convolution block (expansion)\n",
    "    x = Conv2D(filters*4, (1,1), padding='same')(x)\n",
    "    x = BatchNormalization()(x)\n",
    "\n",
    "    # Skip connection\n",
    "    if strides != 1 or shortcut.shape[-1] != filters*4:\n",
    "        shortcut = Conv2D(filters*4, (1,1), strides=strides, padding='same')(shortcut)\n",
    "        shortcut = BatchNormalization()(shortcut)\n",
    "\n",
    "    # Add the shortcut to the main path\n",
    "    x = Add()([x, shortcut])\n",
    "    x = ReLU()(x)\n",
    "    \n",
    "    return x\n",
    "```\n",
    "\n",
    "### Explanation:\n",
    "\n",
    "1. **Save Input Shape as Shortcut Connection:**\n",
    "   - `shortcut = input_shape`: This line saves the input tensor as the shortcut connection. The shortcut connection is used to add the original input to the main path later in the code.\n",
    "\n",
    "2. **First Convolution Block (`x = Conv2D(filters, (1,1), strides=1, padding='same')(input_shape)`):**\n",
    "   - This is a 1x1 convolution applied to the input shape.\n",
    "   - Batch normalization and ReLU activation functions are applied to the output.\n",
    "\n",
    "3. **Second Convolution Block (`x = Conv2D(filters, (3,3), padding='same')(x)`):**\n",
    "   - This is a 3x3 convolution applied to the output of the first convolution block.\n",
    "   - Batch normalization and ReLU activation functions are applied to the output.\n",
    "\n",
    "4. **Third Convolution Block (Expansion, `x = Conv2D(filters*4, (1,1), padding='same')(x)`):**\n",
    "   - This is a 1x1 convolution applied to the output of the second convolution block, intended for expansion (increasing the number of filters by a factor of 4).\n",
    "   - Batch normalization is applied to the output.\n",
    "\n",
    "5. **Skip Connection:**\n",
    "   - `if strides != 1 or shortcut.shape[-1] != filters*4:`: This condition checks if the strides are not equal to 1 or if the number of channels in the shortcut does not match the expected number of channels after the third convolution block.\n",
    "   - If the condition is true, a 1x1 convolution is applied to the shortcut to match the dimensions.\n",
    "   - Batch normalization is applied to the shortcut.\n",
    "\n",
    "6. **Add Shortcut to Main Path (`x = Add()([x, shortcut])`):**\n",
    "   - The shortcut connection is added to the main path, facilitating the skip connection.\n",
    "   - The combined result is passed through a ReLU activation function.\n",
    "\n",
    "7. **Return (`return x`):**\n",
    "   - The final output tensor is returned from the function.\n",
    "\n",
    "In summary, this residual block applies three convolutional blocks to the input tensor and introduces a skip connection to facilitate the flow of gradients during training. The skip connection helps address the vanishing gradient problem in deep neural networks.\n",
    "\n",
    "\n",
    "\n",
    "\n",
    "- Let's break down the lines of code that involve the skip connection in a residual block:\n",
    "\n",
    "```python\n",
    "# Skip connection\n",
    "if strides != 1 or shortcut.shape[-1] != filters * 4:\n",
    "    shortcut = Conv2D(filters * 4, (1, 1), strides=strides, padding='same')(shortcut)\n",
    "    shortcut = BatchNormalization()(shortcut)\n",
    "# Add the shortcut to the main path\n",
    "x = Add()([x, shortcut])\n",
    "x = ReLU()(x)\n",
    "```\n",
    "\n",
    "### Explanation:\n",
    "\n",
    "1. **Skip Connection Check (`if strides != 1 or shortcut.shape[-1] != filters * 4`):**\n",
    "   - This line checks whether a skip connection (also known as a shortcut connection) is needed. A skip connection allows the gradient to flow more easily during training, mitigating the vanishing gradient problem.\n",
    "   - The condition checks two things:\n",
    "     - `strides != 1`: This condition checks if the convolutional block is downsampling the spatial dimensions. If `strides` is not equal to 1, it means the block is performing downsampling.\n",
    "     - `shortcut.shape[-1] != filters * 4`: This checks if the number of channels (the last dimension of the shape) in the shortcut connection is not equal to four times the number of filters in the current block. If they are not equal, it means the shortcut needs to be adjusted to match the dimensions of the main path.\n",
    "\n",
    "2. **Shortcut Adjustment (`shortcut = Conv2D(filters * 4, (1, 1), strides=strides, padding='same')(shortcut)`):**\n",
    "   - If the skip connection check is True, this line adjusts the shortcut connection by applying a 1x1 convolution with `filters * 4` filters. This convolution is applied with the same strides as the main path convolution (controlled by the `strides` parameter).\n",
    "   - The 1x1 convolution is used to adjust the number of channels in the shortcut to match the dimensions of the main path.\n",
    "\n",
    "3. **Batch Normalization on Shortcut (`shortcut = BatchNormalization()(shortcut)`):**\n",
    "   - After adjusting the shortcut, batch normalization is applied to the shortcut. Batch normalization helps stabilize and accelerate training by normalizing the input to a layer.\n",
    "\n",
    "4. **Add the Shortcut to the Main Path (`x = Add()([x, shortcut])`):**\n",
    "   - The adjusted shortcut is added to the output of the main path. This is the essence of the skip connection, where the original input (shortcut) is added to the transformed input of the main path. This helps in the flow of gradients during backpropagation.\n",
    "\n",
    "5. **ReLU Activation (`x = ReLU()(x)`):**\n",
    "   - After adding the shortcut, a Rectified Linear Unit (ReLU) activation is applied to the combined output. ReLU introduces non-linearity to the model by zeroing out negative values.\n",
    "\n",
    "In summary, this block of code implements a residual block with a skip connection. The skip connection is adjusted based on the conditions specified, and the adjusted shortcut is added to the main path before applying a ReLU activation. This structure allows for the training of deeper networks more effectively by addressing the vanishing gradient problem."
   ]
  },
  {
   "cell_type": "code",
   "execution_count": 18,
   "metadata": {
    "ExecuteTime": {
     "end_time": "2023-11-30T01:11:15.178715Z",
     "start_time": "2023-11-30T01:11:15.068716500Z"
    }
   },
   "outputs": [],
   "source": [
    "input_shape = Input(shape=(128,128,3))\n",
    "\n",
    "# Build a simple ResNet with two residual blocks\n",
    "x = Conv2D(64, (7,7), strides=2, padding='same')(input_shape)\n",
    "x = BatchNormalization()(x)\n",
    "x = ReLU()(x)\n",
    "x = MaxPooling2D(2,2)(x)\n",
    "x = res_block(x, filters=64, strides=1)\n",
    "x = res_block(x, filters=64, strides=1)\n",
    "x = MaxPooling2D(2,2)(x)\n",
    "x = res_block(x, filters=128, strides=1)\n",
    "x = res_block(x, filters=128, strides=1)\n",
    "x = MaxPooling2D(2,2)(x)\n",
    "x = GlobalAveragePooling2D()(x)\n",
    "output = Dense(3, activation='softmax')(x)"
   ]
  },
  {
   "cell_type": "code",
   "execution_count": 19,
   "metadata": {
    "ExecuteTime": {
     "end_time": "2023-11-30T01:11:15.178715Z",
     "start_time": "2023-11-30T01:11:15.068716500Z"
    }
   },
   "outputs": [],
   "source": [
    "model_2 = Model(inputs=input_shape, outputs=output)"
   ]
  },
  {
   "cell_type": "code",
   "execution_count": 20,
   "metadata": {
    "ExecuteTime": {
     "end_time": "2023-11-30T01:11:15.178715Z",
     "start_time": "2023-11-30T01:11:15.068716500Z"
    }
   },
   "outputs": [
    {
     "name": "stdout",
     "output_type": "stream",
     "text": [
      "Model: \"model_1\"\n",
      "__________________________________________________________________________________________________\n",
      " Layer (type)                   Output Shape         Param #     Connected to                     \n",
      "==================================================================================================\n",
      " input_2 (InputLayer)           [(None, 128, 128, 3  0           []                               \n",
      "                                )]                                                                \n",
      "                                                                                                  \n",
      " conv2d_24 (Conv2D)             (None, 64, 64, 64)   9472        ['input_2[0][0]']                \n",
      "                                                                                                  \n",
      " batch_normalization (BatchNorm  (None, 64, 64, 64)  256         ['conv2d_24[0][0]']              \n",
      " alization)                                                                                       \n",
      "                                                                                                  \n",
      " re_lu (ReLU)                   (None, 64, 64, 64)   0           ['batch_normalization[0][0]']    \n",
      "                                                                                                  \n",
      " max_pooling2d_4 (MaxPooling2D)  (None, 32, 32, 64)  0           ['re_lu[0][0]']                  \n",
      "                                                                                                  \n",
      " conv2d_25 (Conv2D)             (None, 32, 32, 64)   4160        ['max_pooling2d_4[0][0]']        \n",
      "                                                                                                  \n",
      " batch_normalization_1 (BatchNo  (None, 32, 32, 64)  256         ['conv2d_25[0][0]']              \n",
      " rmalization)                                                                                     \n",
      "                                                                                                  \n",
      " re_lu_1 (ReLU)                 (None, 32, 32, 64)   0           ['batch_normalization_1[0][0]']  \n",
      "                                                                                                  \n",
      " conv2d_26 (Conv2D)             (None, 32, 32, 64)   36928       ['re_lu_1[0][0]']                \n",
      "                                                                                                  \n",
      " batch_normalization_2 (BatchNo  (None, 32, 32, 64)  256         ['conv2d_26[0][0]']              \n",
      " rmalization)                                                                                     \n",
      "                                                                                                  \n",
      " re_lu_2 (ReLU)                 (None, 32, 32, 64)   0           ['batch_normalization_2[0][0]']  \n",
      "                                                                                                  \n",
      " conv2d_27 (Conv2D)             (None, 32, 32, 256)  16640       ['re_lu_2[0][0]']                \n",
      "                                                                                                  \n",
      " conv2d_28 (Conv2D)             (None, 32, 32, 256)  16640       ['max_pooling2d_4[0][0]']        \n",
      "                                                                                                  \n",
      " batch_normalization_3 (BatchNo  (None, 32, 32, 256)  1024       ['conv2d_27[0][0]']              \n",
      " rmalization)                                                                                     \n",
      "                                                                                                  \n",
      " batch_normalization_4 (BatchNo  (None, 32, 32, 256)  1024       ['conv2d_28[0][0]']              \n",
      " rmalization)                                                                                     \n",
      "                                                                                                  \n",
      " add (Add)                      (None, 32, 32, 256)  0           ['batch_normalization_3[0][0]',  \n",
      "                                                                  'batch_normalization_4[0][0]']  \n",
      "                                                                                                  \n",
      " re_lu_3 (ReLU)                 (None, 32, 32, 256)  0           ['add[0][0]']                    \n",
      "                                                                                                  \n",
      " conv2d_29 (Conv2D)             (None, 32, 32, 64)   16448       ['re_lu_3[0][0]']                \n",
      "                                                                                                  \n",
      " batch_normalization_5 (BatchNo  (None, 32, 32, 64)  256         ['conv2d_29[0][0]']              \n",
      " rmalization)                                                                                     \n",
      "                                                                                                  \n",
      " re_lu_4 (ReLU)                 (None, 32, 32, 64)   0           ['batch_normalization_5[0][0]']  \n",
      "                                                                                                  \n",
      " conv2d_30 (Conv2D)             (None, 32, 32, 64)   36928       ['re_lu_4[0][0]']                \n",
      "                                                                                                  \n",
      " batch_normalization_6 (BatchNo  (None, 32, 32, 64)  256         ['conv2d_30[0][0]']              \n",
      " rmalization)                                                                                     \n",
      "                                                                                                  \n",
      " re_lu_5 (ReLU)                 (None, 32, 32, 64)   0           ['batch_normalization_6[0][0]']  \n",
      "                                                                                                  \n",
      " conv2d_31 (Conv2D)             (None, 32, 32, 256)  16640       ['re_lu_5[0][0]']                \n",
      "                                                                                                  \n",
      " batch_normalization_7 (BatchNo  (None, 32, 32, 256)  1024       ['conv2d_31[0][0]']              \n",
      " rmalization)                                                                                     \n",
      "                                                                                                  \n",
      " add_1 (Add)                    (None, 32, 32, 256)  0           ['batch_normalization_7[0][0]',  \n",
      "                                                                  're_lu_3[0][0]']                \n",
      "                                                                                                  \n",
      " re_lu_6 (ReLU)                 (None, 32, 32, 256)  0           ['add_1[0][0]']                  \n",
      "                                                                                                  \n",
      " max_pooling2d_5 (MaxPooling2D)  (None, 16, 16, 256)  0          ['re_lu_6[0][0]']                \n",
      "                                                                                                  \n",
      " conv2d_32 (Conv2D)             (None, 16, 16, 128)  32896       ['max_pooling2d_5[0][0]']        \n",
      "                                                                                                  \n",
      " batch_normalization_8 (BatchNo  (None, 16, 16, 128)  512        ['conv2d_32[0][0]']              \n",
      " rmalization)                                                                                     \n",
      "                                                                                                  \n",
      " re_lu_7 (ReLU)                 (None, 16, 16, 128)  0           ['batch_normalization_8[0][0]']  \n",
      "                                                                                                  \n",
      " conv2d_33 (Conv2D)             (None, 16, 16, 128)  147584      ['re_lu_7[0][0]']                \n",
      "                                                                                                  \n",
      " batch_normalization_9 (BatchNo  (None, 16, 16, 128)  512        ['conv2d_33[0][0]']              \n",
      " rmalization)                                                                                     \n",
      "                                                                                                  \n",
      " re_lu_8 (ReLU)                 (None, 16, 16, 128)  0           ['batch_normalization_9[0][0]']  \n",
      "                                                                                                  \n",
      " conv2d_34 (Conv2D)             (None, 16, 16, 512)  66048       ['re_lu_8[0][0]']                \n",
      "                                                                                                  \n",
      " conv2d_35 (Conv2D)             (None, 16, 16, 512)  131584      ['max_pooling2d_5[0][0]']        \n",
      "                                                                                                  \n",
      " batch_normalization_10 (BatchN  (None, 16, 16, 512)  2048       ['conv2d_34[0][0]']              \n",
      " ormalization)                                                                                    \n",
      "                                                                                                  \n",
      " batch_normalization_11 (BatchN  (None, 16, 16, 512)  2048       ['conv2d_35[0][0]']              \n",
      " ormalization)                                                                                    \n",
      "                                                                                                  \n",
      " add_2 (Add)                    (None, 16, 16, 512)  0           ['batch_normalization_10[0][0]', \n",
      "                                                                  'batch_normalization_11[0][0]'] \n",
      "                                                                                                  \n",
      " re_lu_9 (ReLU)                 (None, 16, 16, 512)  0           ['add_2[0][0]']                  \n",
      "                                                                                                  \n",
      " conv2d_36 (Conv2D)             (None, 16, 16, 128)  65664       ['re_lu_9[0][0]']                \n",
      "                                                                                                  \n",
      " batch_normalization_12 (BatchN  (None, 16, 16, 128)  512        ['conv2d_36[0][0]']              \n",
      " ormalization)                                                                                    \n",
      "                                                                                                  \n",
      " re_lu_10 (ReLU)                (None, 16, 16, 128)  0           ['batch_normalization_12[0][0]'] \n",
      "                                                                                                  \n",
      " conv2d_37 (Conv2D)             (None, 16, 16, 128)  147584      ['re_lu_10[0][0]']               \n",
      "                                                                                                  \n",
      " batch_normalization_13 (BatchN  (None, 16, 16, 128)  512        ['conv2d_37[0][0]']              \n",
      " ormalization)                                                                                    \n",
      "                                                                                                  \n",
      " re_lu_11 (ReLU)                (None, 16, 16, 128)  0           ['batch_normalization_13[0][0]'] \n",
      "                                                                                                  \n",
      " conv2d_38 (Conv2D)             (None, 16, 16, 512)  66048       ['re_lu_11[0][0]']               \n",
      "                                                                                                  \n",
      " batch_normalization_14 (BatchN  (None, 16, 16, 512)  2048       ['conv2d_38[0][0]']              \n",
      " ormalization)                                                                                    \n",
      "                                                                                                  \n",
      " add_3 (Add)                    (None, 16, 16, 512)  0           ['batch_normalization_14[0][0]', \n",
      "                                                                  're_lu_9[0][0]']                \n",
      "                                                                                                  \n",
      " re_lu_12 (ReLU)                (None, 16, 16, 512)  0           ['add_3[0][0]']                  \n",
      "                                                                                                  \n",
      " max_pooling2d_6 (MaxPooling2D)  (None, 8, 8, 512)   0           ['re_lu_12[0][0]']               \n",
      "                                                                                                  \n",
      " global_average_pooling2d_1 (Gl  (None, 512)         0           ['max_pooling2d_6[0][0]']        \n",
      " obalAveragePooling2D)                                                                            \n",
      "                                                                                                  \n",
      " dense_1 (Dense)                (None, 3)            1539        ['global_average_pooling2d_1[0][0\n",
      "                                                                 ]']                              \n",
      "                                                                                                  \n",
      "==================================================================================================\n",
      "Total params: 825,347\n",
      "Trainable params: 819,075\n",
      "Non-trainable params: 6,272\n",
      "__________________________________________________________________________________________________\n"
     ]
    }
   ],
   "source": [
    "model_2.summary()"
   ]
  },
  {
   "cell_type": "code",
   "execution_count": 21,
   "metadata": {
    "ExecuteTime": {
     "end_time": "2023-11-30T01:11:15.178715Z",
     "start_time": "2023-11-30T01:11:15.083911300Z"
    }
   },
   "outputs": [],
   "source": [
    "# Compile the model\n",
    "model_2.compile(optimizer='adam', loss='categorical_crossentropy', metrics=['accuracy'])"
   ]
  },
  {
   "cell_type": "code",
   "execution_count": 22,
   "metadata": {
    "ExecuteTime": {
     "end_time": "2023-11-30T01:11:18.962834Z",
     "start_time": "2023-11-30T01:11:15.108968600Z"
    }
   },
   "outputs": [
    {
     "name": "stdout",
     "output_type": "stream",
     "text": [
      "Epoch 1/10\n",
      "1/1 [==============================] - 3s 3s/step - loss: 3.7288 - accuracy: 0.3333 - val_loss: 1.1203 - val_accuracy: 0.0000e+00\n",
      "Epoch 2/10\n",
      "1/1 [==============================] - 0s 90ms/step - loss: 0.2916 - accuracy: 0.8333 - val_loss: 1.1159 - val_accuracy: 0.0000e+00\n",
      "Epoch 3/10\n",
      "1/1 [==============================] - 0s 80ms/step - loss: 0.1291 - accuracy: 0.9167 - val_loss: 1.1442 - val_accuracy: 0.0000e+00\n",
      "Epoch 4/10\n",
      "1/1 [==============================] - 0s 80ms/step - loss: 0.0387 - accuracy: 1.0000 - val_loss: 1.1386 - val_accuracy: 0.0000e+00\n",
      "Epoch 5/10\n",
      "1/1 [==============================] - 0s 80ms/step - loss: 0.0465 - accuracy: 1.0000 - val_loss: 1.1223 - val_accuracy: 0.0000e+00\n",
      "Epoch 6/10\n",
      "1/1 [==============================] - 0s 71ms/step - loss: 0.0144 - accuracy: 1.0000 - val_loss: 1.1138 - val_accuracy: 0.0000e+00\n",
      "Epoch 7/10\n",
      "1/1 [==============================] - 0s 70ms/step - loss: 0.0081 - accuracy: 1.0000 - val_loss: 1.1141 - val_accuracy: 0.0000e+00\n",
      "Epoch 8/10\n",
      "1/1 [==============================] - 0s 79ms/step - loss: 0.0044 - accuracy: 1.0000 - val_loss: 1.1170 - val_accuracy: 0.0000e+00\n",
      "Epoch 9/10\n",
      "1/1 [==============================] - 0s 70ms/step - loss: 0.0027 - accuracy: 1.0000 - val_loss: 1.1193 - val_accuracy: 0.0000e+00\n",
      "Epoch 10/10\n",
      "1/1 [==============================] - 0s 71ms/step - loss: 0.0022 - accuracy: 1.0000 - val_loss: 1.1184 - val_accuracy: 0.0000e+00\n"
     ]
    }
   ],
   "source": [
    "history = model_2.fit(x_train, y_train, epochs=10, validation_split=0.2)"
   ]
  },
  {
   "cell_type": "code",
   "execution_count": 23,
   "metadata": {
    "ExecuteTime": {
     "end_time": "2023-11-30T01:11:19.082833200Z",
     "start_time": "2023-11-30T01:11:18.962834Z"
    }
   },
   "outputs": [
    {
     "name": "stdout",
     "output_type": "stream",
     "text": [
      "1/1 [==============================] - 0s 50ms/step - loss: 1.0785 - accuracy: 0.5625\n",
      "Test accuracy: 0.5625\n",
      "Test loss: 1.0785197019577026\n"
     ]
    }
   ],
   "source": [
    "# Evaluate the model on the test set\n",
    "test_loss, test_acc = model_1.evaluate(x_test, y_test)\n",
    "print(\"Test accuracy:\", test_acc)\n",
    "print(\"Test loss:\", test_loss)"
   ]
  },
  {
   "cell_type": "code",
   "execution_count": 24,
   "metadata": {
    "ExecuteTime": {
     "end_time": "2023-11-30T01:11:19.223500100Z",
     "start_time": "2023-11-30T01:11:19.062833Z"
    }
   },
   "outputs": [
    {
     "data": {
      "text/plain": "<Figure size 640x480 with 1 Axes>",
      "image/png": "[encoded data removed]"
     },
     "metadata": {},
     "output_type": "display_data"
    }
   ],
   "source": [
    "plt.plot(history.history['accuracy'], label='accuracy')\n",
    "plt.plot(history.history['val_accuracy'], label='val_accuracy')\n",
    "plt.legend()\n",
    "plt.show()"
   ]
  },
  {
   "cell_type": "code",
   "execution_count": 25,
   "metadata": {
    "ExecuteTime": {
     "end_time": "2023-11-30T01:11:19.382050200Z",
     "start_time": "2023-11-30T01:11:19.213488Z"
    }
   },
   "outputs": [
    {
     "data": {
      "text/plain": "<Figure size 640x480 with 1 Axes>",
      "image/png": "[encoded data removed]"
     },
     "metadata": {},
     "output_type": "display_data"
    }
   ],
   "source": [
    "plt.plot(history.history['loss'], label='loss')\n",
    "plt.plot(history.history['val_loss'], label='val_loss')\n",
    "plt.legend()\n",
    "plt.show()"
   ]
  },
  {
   "cell_type": "markdown",
   "metadata": {},
   "source": [
    "# Combine the models into Creating the Ensemble Model"
   ]
  },
  {
   "cell_type": "markdown",
   "metadata": {},
   "source": [
    "Let's break down the lines of code for creating the ensemble model:\n",
    "\n",
    "```python\n",
    "# Concatenate the outputs of the two models\n",
    "concatenated_output = concatenate([model_1.output, model_2.output])\n",
    "\n",
    "# Apply dense layers to the concatenated output\n",
    "x = Dense(100, activation='relu')(concatenated_output)\n",
    "x = Dense(50, activation='relu')(x)\n",
    "\n",
    "# Create the final ensemble model output layer\n",
    "ensemble_model = Dense(3, activation='relu')(x)\n",
    "\n",
    "# Build the ensemble model\n",
    "model = Model(inputs=[model_1.input, model_2.input], outputs=ensemble_model)\n",
    "```\n",
    "\n",
    "### Explanation:\n",
    "\n",
    "1. **Concatenate Model Outputs (`concatenate([model_1.output, model_2.output])`):**\n",
    "   - `concatenate` is a function that concatenates tensors along a specified axis. Here, it concatenates the outputs of `model_1` and `model_2` along the last axis (`axis=-1`).\n",
    "   - `model_1.output` and `model_2.output` are the final output tensors of the respective models.\n",
    "\n",
    "2. **Dense Layers Applied to Concatenated Output (`x = Dense(100, activation='relu')(concatenated_output)` and `x = Dense(50, activation='relu')(x)`):**\n",
    "   - Two dense layers are applied successively to the concatenated output tensor (`concatenated_output`).\n",
    "   - The first dense layer has 100 units with a ReLU activation function.\n",
    "   - The second dense layer has 50 units with a ReLU activation function.\n",
    "   - These dense layers introduce non-linear transformations to the concatenated features, allowing the model to learn complex representations.\n",
    "\n",
    "3. **Create Final Ensemble Model Output Layer (`ensemble_model = Dense(3, activation='relu')(x)`):**\n",
    "   - Another dense layer is added to produce the final ensemble model output.\n",
    "   - It has 3 units, representing the number of classes in the classification problem.\n",
    "   - The ReLU activation function is applied to the output.\n",
    "\n",
    "4. **Build the Ensemble Model (`model = Model(inputs=[model_1.input, model_2.input], outputs=ensemble_model)`):**\n",
    "   - The `Model` class is used to create the ensemble model.\n",
    "   - The inputs to the model are the input layers of `model_1` and `model_2`.\n",
    "   - The output is the `ensemble_model` created by stacking dense layers on the concatenated output.\n",
    "\n",
    "In summary, this code creates an ensemble model by concatenating the outputs of two existing models (`model_1` and `model_2`). Dense layers are then applied to the concatenated output to introduce non-linear transformations, and the final output layer is created for classification. The resulting ensemble model is built using the Keras `Model` class."
   ]
  },
  {
   "cell_type": "code",
   "execution_count": 26,
   "metadata": {
    "ExecuteTime": {
     "end_time": "2023-11-30T01:11:19.382050200Z",
     "start_time": "2023-11-30T01:11:19.362417700Z"
    }
   },
   "outputs": [],
   "source": [
    "concatenated_output= concatenate([model_1.output, model_2.output])"
   ]
  },
  {
   "cell_type": "code",
   "execution_count": 27,
   "metadata": {
    "ExecuteTime": {
     "end_time": "2023-11-30T01:11:19.492099700Z",
     "start_time": "2023-11-30T01:11:19.382050200Z"
    }
   },
   "outputs": [],
   "source": [
    "x = Dense(100, activation='relu')(concatenated_output)\n",
    "x = Dense(50, activation='relu')(x)\n",
    "ensemble_model= Dense(3, activation='relu')(x)\n"
   ]
  },
  {
   "cell_type": "code",
   "execution_count": 28,
   "metadata": {
    "ExecuteTime": {
     "end_time": "2023-11-30T01:11:19.493813Z",
     "start_time": "2023-11-30T01:11:19.421941900Z"
    }
   },
   "outputs": [],
   "source": [
    "#Build the ensemble model\n",
    "model = Model(inputs=[model_1.input, model_2.input] , outputs= ensemble_model)"
   ]
  },
  {
   "cell_type": "code",
   "execution_count": 29,
   "metadata": {
    "ExecuteTime": {
     "end_time": "2023-11-30T01:11:19.493813Z",
     "start_time": "2023-11-30T01:11:19.444047200Z"
    }
   },
   "outputs": [],
   "source": [
    "# Compile the model\n",
    "model.compile(optimizer='adam', loss='categorical_crossentropy', metrics=['accuracy'])"
   ]
  },
  {
   "cell_type": "code",
   "execution_count": 30,
   "metadata": {
    "ExecuteTime": {
     "end_time": "2023-11-30T01:11:19.493813Z",
     "start_time": "2023-11-30T01:11:19.472085400Z"
    }
   },
   "outputs": [
    {
     "name": "stdout",
     "output_type": "stream",
     "text": [
      "Model: \"model_2\"\n",
      "__________________________________________________________________________________________________\n",
      " Layer (type)                   Output Shape         Param #     Connected to                     \n",
      "==================================================================================================\n",
      " input_2 (InputLayer)           [(None, 128, 128, 3  0           []                               \n",
      "                                )]                                                                \n",
      "                                                                                                  \n",
      " conv2d_24 (Conv2D)             (None, 64, 64, 64)   9472        ['input_2[0][0]']                \n",
      "                                                                                                  \n",
      " batch_normalization (BatchNorm  (None, 64, 64, 64)  256         ['conv2d_24[0][0]']              \n",
      " alization)                                                                                       \n",
      "                                                                                                  \n",
      " re_lu (ReLU)                   (None, 64, 64, 64)   0           ['batch_normalization[0][0]']    \n",
      "                                                                                                  \n",
      " max_pooling2d_4 (MaxPooling2D)  (None, 32, 32, 64)  0           ['re_lu[0][0]']                  \n",
      "                                                                                                  \n",
      " conv2d_25 (Conv2D)             (None, 32, 32, 64)   4160        ['max_pooling2d_4[0][0]']        \n",
      "                                                                                                  \n",
      " batch_normalization_1 (BatchNo  (None, 32, 32, 64)  256         ['conv2d_25[0][0]']              \n",
      " rmalization)                                                                                     \n",
      "                                                                                                  \n",
      " re_lu_1 (ReLU)                 (None, 32, 32, 64)   0           ['batch_normalization_1[0][0]']  \n",
      "                                                                                                  \n",
      " conv2d_26 (Conv2D)             (None, 32, 32, 64)   36928       ['re_lu_1[0][0]']                \n",
      "                                                                                                  \n",
      " batch_normalization_2 (BatchNo  (None, 32, 32, 64)  256         ['conv2d_26[0][0]']              \n",
      " rmalization)                                                                                     \n",
      "                                                                                                  \n",
      " re_lu_2 (ReLU)                 (None, 32, 32, 64)   0           ['batch_normalization_2[0][0]']  \n",
      "                                                                                                  \n",
      " conv2d_27 (Conv2D)             (None, 32, 32, 256)  16640       ['re_lu_2[0][0]']                \n",
      "                                                                                                  \n",
      " conv2d_28 (Conv2D)             (None, 32, 32, 256)  16640       ['max_pooling2d_4[0][0]']        \n",
      "                                                                                                  \n",
      " batch_normalization_3 (BatchNo  (None, 32, 32, 256)  1024       ['conv2d_27[0][0]']              \n",
      " rmalization)                                                                                     \n",
      "                                                                                                  \n",
      " batch_normalization_4 (BatchNo  (None, 32, 32, 256)  1024       ['conv2d_28[0][0]']              \n",
      " rmalization)                                                                                     \n",
      "                                                                                                  \n",
      " add (Add)                      (None, 32, 32, 256)  0           ['batch_normalization_3[0][0]',  \n",
      "                                                                  'batch_normalization_4[0][0]']  \n",
      "                                                                                                  \n",
      " re_lu_3 (ReLU)                 (None, 32, 32, 256)  0           ['add[0][0]']                    \n",
      "                                                                                                  \n",
      " conv2d_29 (Conv2D)             (None, 32, 32, 64)   16448       ['re_lu_3[0][0]']                \n",
      "                                                                                                  \n",
      " batch_normalization_5 (BatchNo  (None, 32, 32, 64)  256         ['conv2d_29[0][0]']              \n",
      " rmalization)                                                                                     \n",
      "                                                                                                  \n",
      " re_lu_4 (ReLU)                 (None, 32, 32, 64)   0           ['batch_normalization_5[0][0]']  \n",
      "                                                                                                  \n",
      " conv2d_30 (Conv2D)             (None, 32, 32, 64)   36928       ['re_lu_4[0][0]']                \n",
      "                                                                                                  \n",
      " batch_normalization_6 (BatchNo  (None, 32, 32, 64)  256         ['conv2d_30[0][0]']              \n",
      " rmalization)                                                                                     \n",
      "                                                                                                  \n",
      " re_lu_5 (ReLU)                 (None, 32, 32, 64)   0           ['batch_normalization_6[0][0]']  \n",
      "                                                                                                  \n",
      " conv2d_31 (Conv2D)             (None, 32, 32, 256)  16640       ['re_lu_5[0][0]']                \n",
      "                                                                                                  \n",
      " batch_normalization_7 (BatchNo  (None, 32, 32, 256)  1024       ['conv2d_31[0][0]']              \n",
      " rmalization)                                                                                     \n",
      "                                                                                                  \n",
      " add_1 (Add)                    (None, 32, 32, 256)  0           ['batch_normalization_7[0][0]',  \n",
      "                                                                  're_lu_3[0][0]']                \n",
      "                                                                                                  \n",
      " re_lu_6 (ReLU)                 (None, 32, 32, 256)  0           ['add_1[0][0]']                  \n",
      "                                                                                                  \n",
      " max_pooling2d_5 (MaxPooling2D)  (None, 16, 16, 256)  0          ['re_lu_6[0][0]']                \n",
      "                                                                                                  \n",
      " conv2d_32 (Conv2D)             (None, 16, 16, 128)  32896       ['max_pooling2d_5[0][0]']        \n",
      "                                                                                                  \n",
      " input_1 (InputLayer)           [(None, 128, 128, 3  0           []                               \n",
      "                                )]                                                                \n",
      "                                                                                                  \n",
      " batch_normalization_8 (BatchNo  (None, 16, 16, 128)  512        ['conv2d_32[0][0]']              \n",
      " rmalization)                                                                                     \n",
      "                                                                                                  \n",
      " conv2d (Conv2D)                (None, 122, 122, 64  9472        ['input_1[0][0]']                \n",
      "                                )                                                                 \n",
      "                                                                                                  \n",
      " re_lu_7 (ReLU)                 (None, 16, 16, 128)  0           ['batch_normalization_8[0][0]']  \n",
      "                                                                                                  \n",
      " max_pooling2d (MaxPooling2D)   (None, 61, 61, 64)   0           ['conv2d[0][0]']                 \n",
      "                                                                                                  \n",
      " conv2d_33 (Conv2D)             (None, 16, 16, 128)  147584      ['re_lu_7[0][0]']                \n",
      "                                                                                                  \n",
      " conv2d_1 (Conv2D)              (None, 59, 59, 64)   36928       ['max_pooling2d[0][0]']          \n",
      "                                                                                                  \n",
      " batch_normalization_9 (BatchNo  (None, 16, 16, 128)  512        ['conv2d_33[0][0]']              \n",
      " rmalization)                                                                                     \n",
      "                                                                                                  \n",
      " conv2d_2 (Conv2D)              (None, 59, 59, 32)   2080        ['conv2d_1[0][0]']               \n",
      "                                                                                                  \n",
      " re_lu_8 (ReLU)                 (None, 16, 16, 128)  0           ['batch_normalization_9[0][0]']  \n",
      "                                                                                                  \n",
      " conv2d_4 (Conv2D)              (None, 59, 59, 64)   2112        ['conv2d_2[0][0]']               \n",
      "                                                                                                  \n",
      " conv2d_7 (Conv2D)              (None, 59, 59, 64)   2112        ['conv2d_2[0][0]']               \n",
      "                                                                                                  \n",
      " conv2d_34 (Conv2D)             (None, 16, 16, 512)  66048       ['re_lu_8[0][0]']                \n",
      "                                                                                                  \n",
      " conv2d_35 (Conv2D)             (None, 16, 16, 512)  131584      ['max_pooling2d_5[0][0]']        \n",
      "                                                                                                  \n",
      " conv2d_5 (Conv2D)              (None, 59, 59, 192)  110784      ['conv2d_4[0][0]']               \n",
      "                                                                                                  \n",
      " conv2d_8 (Conv2D)              (None, 59, 59, 96)   153696      ['conv2d_7[0][0]']               \n",
      "                                                                                                  \n",
      " batch_normalization_10 (BatchN  (None, 16, 16, 512)  2048       ['conv2d_34[0][0]']              \n",
      " ormalization)                                                                                    \n",
      "                                                                                                  \n",
      " batch_normalization_11 (BatchN  (None, 16, 16, 512)  2048       ['conv2d_35[0][0]']              \n",
      " ormalization)                                                                                    \n",
      "                                                                                                  \n",
      " conv2d_3 (Conv2D)              (None, 59, 59, 128)  4224        ['conv2d_2[0][0]']               \n",
      "                                                                                                  \n",
      " conv2d_6 (Conv2D)              (None, 59, 59, 64)   12352       ['conv2d_5[0][0]']               \n",
      "                                                                                                  \n",
      " conv2d_9 (Conv2D)              (None, 59, 59, 64)   6208        ['conv2d_8[0][0]']               \n",
      "                                                                                                  \n",
      " add_2 (Add)                    (None, 16, 16, 512)  0           ['batch_normalization_10[0][0]', \n",
      "                                                                  'batch_normalization_11[0][0]'] \n",
      "                                                                                                  \n",
      " concatenate (Concatenate)      (None, 59, 59, 256)  0           ['conv2d_3[0][0]',               \n",
      "                                                                  'conv2d_6[0][0]',               \n",
      "                                                                  'conv2d_9[0][0]']               \n",
      "                                                                                                  \n",
      " re_lu_9 (ReLU)                 (None, 16, 16, 512)  0           ['add_2[0][0]']                  \n",
      "                                                                                                  \n",
      " max_pooling2d_1 (MaxPooling2D)  (None, 29, 29, 256)  0          ['concatenate[0][0]']            \n",
      "                                                                                                  \n",
      " conv2d_36 (Conv2D)             (None, 16, 16, 128)  65664       ['re_lu_9[0][0]']                \n",
      "                                                                                                  \n",
      " conv2d_11 (Conv2D)             (None, 29, 29, 64)   16448       ['max_pooling2d_1[0][0]']        \n",
      "                                                                                                  \n",
      " conv2d_14 (Conv2D)             (None, 29, 29, 64)   16448       ['max_pooling2d_1[0][0]']        \n",
      "                                                                                                  \n",
      " batch_normalization_12 (BatchN  (None, 16, 16, 128)  512        ['conv2d_36[0][0]']              \n",
      " ormalization)                                                                                    \n",
      "                                                                                                  \n",
      " conv2d_12 (Conv2D)             (None, 29, 29, 192)  110784      ['conv2d_11[0][0]']              \n",
      "                                                                                                  \n",
      " conv2d_15 (Conv2D)             (None, 29, 29, 96)   153696      ['conv2d_14[0][0]']              \n",
      "                                                                                                  \n",
      " re_lu_10 (ReLU)                (None, 16, 16, 128)  0           ['batch_normalization_12[0][0]'] \n",
      "                                                                                                  \n",
      " conv2d_10 (Conv2D)             (None, 29, 29, 128)  32896       ['max_pooling2d_1[0][0]']        \n",
      "                                                                                                  \n",
      " conv2d_13 (Conv2D)             (None, 29, 29, 64)   12352       ['conv2d_12[0][0]']              \n",
      "                                                                                                  \n",
      " conv2d_16 (Conv2D)             (None, 29, 29, 64)   6208        ['conv2d_15[0][0]']              \n",
      "                                                                                                  \n",
      " conv2d_37 (Conv2D)             (None, 16, 16, 128)  147584      ['re_lu_10[0][0]']               \n",
      "                                                                                                  \n",
      " concatenate_1 (Concatenate)    (None, 29, 29, 256)  0           ['conv2d_10[0][0]',              \n",
      "                                                                  'conv2d_13[0][0]',              \n",
      "                                                                  'conv2d_16[0][0]']              \n",
      "                                                                                                  \n",
      " batch_normalization_13 (BatchN  (None, 16, 16, 128)  512        ['conv2d_37[0][0]']              \n",
      " ormalization)                                                                                    \n",
      "                                                                                                  \n",
      " max_pooling2d_2 (MaxPooling2D)  (None, 14, 14, 256)  0          ['concatenate_1[0][0]']          \n",
      "                                                                                                  \n",
      " re_lu_11 (ReLU)                (None, 16, 16, 128)  0           ['batch_normalization_13[0][0]'] \n",
      "                                                                                                  \n",
      " conv2d_18 (Conv2D)             (None, 14, 14, 64)   16448       ['max_pooling2d_2[0][0]']        \n",
      "                                                                                                  \n",
      " conv2d_21 (Conv2D)             (None, 14, 14, 64)   16448       ['max_pooling2d_2[0][0]']        \n",
      "                                                                                                  \n",
      " conv2d_38 (Conv2D)             (None, 16, 16, 512)  66048       ['re_lu_11[0][0]']               \n",
      "                                                                                                  \n",
      " conv2d_19 (Conv2D)             (None, 14, 14, 192)  110784      ['conv2d_18[0][0]']              \n",
      "                                                                                                  \n",
      " conv2d_22 (Conv2D)             (None, 14, 14, 96)   153696      ['conv2d_21[0][0]']              \n",
      "                                                                                                  \n",
      " batch_normalization_14 (BatchN  (None, 16, 16, 512)  2048       ['conv2d_38[0][0]']              \n",
      " ormalization)                                                                                    \n",
      "                                                                                                  \n",
      " conv2d_17 (Conv2D)             (None, 14, 14, 128)  32896       ['max_pooling2d_2[0][0]']        \n",
      "                                                                                                  \n",
      " conv2d_20 (Conv2D)             (None, 14, 14, 64)   12352       ['conv2d_19[0][0]']              \n",
      "                                                                                                  \n",
      " conv2d_23 (Conv2D)             (None, 14, 14, 64)   6208        ['conv2d_22[0][0]']              \n",
      "                                                                                                  \n",
      " add_3 (Add)                    (None, 16, 16, 512)  0           ['batch_normalization_14[0][0]', \n",
      "                                                                  're_lu_9[0][0]']                \n",
      "                                                                                                  \n",
      " concatenate_2 (Concatenate)    (None, 14, 14, 256)  0           ['conv2d_17[0][0]',              \n",
      "                                                                  'conv2d_20[0][0]',              \n",
      "                                                                  'conv2d_23[0][0]']              \n",
      "                                                                                                  \n",
      " re_lu_12 (ReLU)                (None, 16, 16, 512)  0           ['add_3[0][0]']                  \n",
      "                                                                                                  \n",
      " max_pooling2d_3 (MaxPooling2D)  (None, 7, 7, 256)   0           ['concatenate_2[0][0]']          \n",
      "                                                                                                  \n",
      " max_pooling2d_6 (MaxPooling2D)  (None, 8, 8, 512)   0           ['re_lu_12[0][0]']               \n",
      "                                                                                                  \n",
      " global_average_pooling2d (Glob  (None, 256)         0           ['max_pooling2d_3[0][0]']        \n",
      " alAveragePooling2D)                                                                              \n",
      "                                                                                                  \n",
      " global_average_pooling2d_1 (Gl  (None, 512)         0           ['max_pooling2d_6[0][0]']        \n",
      " obalAveragePooling2D)                                                                            \n",
      "                                                                                                  \n",
      " dense (Dense)                  (None, 3)            771         ['global_average_pooling2d[0][0]'\n",
      "                                                                 ]                                \n",
      "                                                                                                  \n",
      " dense_1 (Dense)                (None, 3)            1539        ['global_average_pooling2d_1[0][0\n",
      "                                                                 ]']                              \n",
      "                                                                                                  \n",
      " concatenate_3 (Concatenate)    (None, 6)            0           ['dense[0][0]',                  \n",
      "                                                                  'dense_1[0][0]']                \n",
      "                                                                                                  \n",
      " dense_2 (Dense)                (None, 100)          700         ['concatenate_3[0][0]']          \n",
      "                                                                                                  \n",
      " dense_3 (Dense)                (None, 50)           5050        ['dense_2[0][0]']                \n",
      "                                                                                                  \n",
      " dense_4 (Dense)                (None, 3)            153         ['dense_3[0][0]']                \n",
      "                                                                                                  \n",
      "==================================================================================================\n",
      "Total params: 1,869,653\n",
      "Trainable params: 1,863,381\n",
      "Non-trainable params: 6,272\n",
      "__________________________________________________________________________________________________\n"
     ]
    }
   ],
   "source": [
    "# Display the ensemble model summary\n",
    "model.summary()"
   ]
  },
  {
   "cell_type": "code",
   "execution_count": 31,
   "metadata": {
    "ExecuteTime": {
     "end_time": "2023-11-30T01:11:23.738137400Z",
     "start_time": "2023-11-30T01:11:19.482096700Z"
    }
   },
   "outputs": [
    {
     "name": "stdout",
     "output_type": "stream",
     "text": [
      "Epoch 1/10\n",
      "1/1 [==============================] - 3s 3s/step - loss: 0.9950 - accuracy: 0.4167 - val_loss: 4.3189 - val_accuracy: 0.7500\n",
      "Epoch 2/10\n",
      "1/1 [==============================] - 0s 122ms/step - loss: 2.0942 - accuracy: 0.4167 - val_loss: 4.2759 - val_accuracy: 0.7500\n",
      "Epoch 3/10\n",
      "1/1 [==============================] - 0s 122ms/step - loss: 0.9828 - accuracy: 0.5000 - val_loss: 4.3532 - val_accuracy: 0.7500\n",
      "Epoch 4/10\n",
      "1/1 [==============================] - 0s 121ms/step - loss: 0.8203 - accuracy: 0.5833 - val_loss: 4.3980 - val_accuracy: 0.7500\n",
      "Epoch 5/10\n",
      "1/1 [==============================] - 0s 121ms/step - loss: 0.6948 - accuracy: 0.5833 - val_loss: 4.4692 - val_accuracy: 0.7500\n",
      "Epoch 6/10\n",
      "1/1 [==============================] - 0s 120ms/step - loss: 0.6732 - accuracy: 0.5833 - val_loss: 4.5519 - val_accuracy: 0.2500\n",
      "Epoch 7/10\n",
      "1/1 [==============================] - 0s 140ms/step - loss: 0.6815 - accuracy: 0.5833 - val_loss: 4.5871 - val_accuracy: 0.0000e+00\n",
      "Epoch 8/10\n",
      "1/1 [==============================] - 0s 131ms/step - loss: 0.6688 - accuracy: 0.5833 - val_loss: 4.5920 - val_accuracy: 0.0000e+00\n",
      "Epoch 9/10\n",
      "1/1 [==============================] - 0s 131ms/step - loss: 0.6550 - accuracy: 0.5833 - val_loss: 4.5859 - val_accuracy: 0.0000e+00\n",
      "Epoch 10/10\n",
      "1/1 [==============================] - 0s 115ms/step - loss: 0.6420 - accuracy: 0.5833 - val_loss: 4.5682 - val_accuracy: 0.0000e+00\n"
     ]
    }
   ],
   "source": [
    "# Train the ensemble model\n",
    "history = model.fit([x_train, x_train], y_train, epochs=10, validation_split=0.2)"
   ]
  },
  {
   "cell_type": "code",
   "execution_count": 32,
   "metadata": {
    "ExecuteTime": {
     "end_time": "2023-11-30T01:11:24.008823800Z",
     "start_time": "2023-11-30T01:11:23.506759700Z"
    }
   },
   "outputs": [
    {
     "name": "stdout",
     "output_type": "stream",
     "text": [
      "1/1 [==============================] - 0s 332ms/step - loss: 5.5172 - accuracy: 0.3125\n",
      "Ensemble Test accuracy: 0.3125\n",
      "Ensemble Test loss: 5.517234802246094\n"
     ]
    }
   ],
   "source": [
    "# Evaluate the ensemble model on the test set\n",
    "test_loss_ensemble, test_acc_ensemble = model.evaluate([x_test,x_test], y_test)\n",
    "print(\"Ensemble Test accuracy:\", test_acc_ensemble)\n",
    "print(\"Ensemble Test loss:\", test_loss_ensemble)"
   ]
  },
  {
   "cell_type": "code",
   "execution_count": 33,
   "metadata": {
    "ExecuteTime": {
     "end_time": "2023-11-30T01:11:24.160074Z",
     "start_time": "2023-11-30T01:11:23.909377200Z"
    }
   },
   "outputs": [
    {
     "data": {
      "text/plain": "<Figure size 640x480 with 1 Axes>",
      "image/png": "[encoded data removed]"
     },
     "metadata": {},
     "output_type": "display_data"
    }
   ],
   "source": [
    "plt.plot(history.history['accuracy'], label='accuracy')\n",
    "plt.plot(history.history['val_accuracy'], label='val_accuracy')\n",
    "plt.legend()\n",
    "plt.show()"
   ]
  },
  {
   "cell_type": "code",
   "execution_count": 34,
   "metadata": {
    "ExecuteTime": {
     "end_time": "2023-11-30T01:11:24.270785200Z",
     "start_time": "2023-11-30T01:11:24.079194500Z"
    }
   },
   "outputs": [
    {
     "data": {
      "text/plain": "<Figure size 640x480 with 1 Axes>",
      "image/png": "[encoded data removed]"
     },
     "metadata": {},
     "output_type": "display_data"
    }
   ],
   "source": [
    "plt.plot(history.history['loss'], label='loss')\n",
    "plt.plot(history.history['val_loss'], label='val_loss')\n",
    "plt.legend()\n",
    "plt.show()"
   ]
  },
  {
   "cell_type": "code",
   "execution_count": 35,
   "metadata": {
    "ExecuteTime": {
     "end_time": "2023-11-30T01:11:24.401388200Z",
     "start_time": "2023-11-30T01:11:24.230472400Z"
    }
   },
   "outputs": [],
   "source": [
    "from keras import backend as K\n",
    "import gc\n",
    "\n",
    "K.clear_session()\n",
    "gc.collect()\n",
    "\n",
    "del model_1"
   ]
  },
  {
   "cell_type": "code",
   "execution_count": 36,
   "metadata": {
    "ExecuteTime": {
     "end_time": "2023-11-30T01:11:34.108156700Z",
     "start_time": "2023-11-30T01:11:24.371136Z"
    }
   },
   "outputs": [],
   "source": [
    "#You need to install numba using 'pip install numba'\n",
    "\n",
    "from numba import cuda\n",
    "\n",
    "cuda.select_device(0)\n",
    "cuda.close()"
   ]
  },
  {
   "cell_type": "code",
   "execution_count": 36,
   "metadata": {
    "ExecuteTime": {
     "end_time": "2023-11-30T01:11:34.123823700Z",
     "start_time": "2023-11-30T01:11:34.108156700Z"
    }
   },
   "outputs": [],
   "source": []
  }
 ],
 "metadata": {
  "kernelspec": {
   "name": "tensorflow",
   "language": "python",
   "display_name": "TensorflowPy3.9.16"
  },
  "language_info": {
   "codemirror_mode": {
    "name": "ipython",
    "version": 3
   },
   "file_extension": ".py",
   "mimetype": "text/x-python",
   "name": "python",
   "nbconvert_exporter": "python",
   "pygments_lexer": "ipython3",
   "version": "3.7.7"
  }
 },
 "nbformat": 4,
 "nbformat_minor": 4
}
